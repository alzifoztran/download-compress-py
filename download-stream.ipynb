{
 "cells": [
  {
   "cell_type": "code",
   "execution_count": null,
   "outputs": [],
   "source": [
    "PLAYLIST_URL = \"\"\n",
    "PLAYLIST_PATH = \"\"\n",
    "VIDEO_NAME = \"\"\n",
    "HEADER = \"\""
   ],
   "metadata": {
    "collapsed": false
   },
   "id": "initial_id"
  },
  {
   "cell_type": "code",
   "execution_count": null,
   "outputs": [],
   "source": [
    "%mkdir -p playlist\n",
    "%mkdir -p \"playlist/{VIDEO_NAME}\"\n",
    "import subprocess"
   ],
   "metadata": {
    "collapsed": false
   },
   "id": "bb878e0a402acb04"
  },
  {
   "cell_type": "code",
   "execution_count": null,
   "outputs": [],
   "source": [
    "# read playlist m3u8\n",
    "video_names = []\n",
    "with open(PLAYLIST_PATH, \"r\") as f:\n",
    "    lines = f.readlines()\n",
    "    \n",
    "    if(lines[0] != \"#EXTM3U\\n\"):\n",
    "        raise Exception(\"Not a valid m3u8 file\")\n",
    "    \n",
    "    HOST_LINK = PLAYLIST_URL[:PLAYLIST_URL.rfind(\"/\")]\n",
    "    lines = lines[1:]\n",
    "    for line in lines:\n",
    "        if(line[0] != \"#\"):\n",
    "            video_name, extension = line.strip().split('.')\n",
    "            !curl \"{HOST_LINK}/{video_name}.{extension}\" -H \"{HEADER}\" --output \"playlist/{VIDEO_NAME}/{video_name}.ts\"\n",
    "            video_names.append(video_name)\n",
    "         "
   ],
   "metadata": {
    "collapsed": false
   },
   "id": "f3d3bfad5f261656"
  },
  {
   "cell_type": "code",
   "execution_count": null,
   "outputs": [],
   "source": [
    "# create list file\n",
    "\n",
    "with open(f\"playlist/{VIDEO_NAME}-list.txt\", \"w\") as f:\n",
    "    for video_name in video_names:\n",
    "        f.write(f\"file '{VIDEO_NAME}/{video_name}.ts'\\n\")\n"
   ],
   "metadata": {
    "collapsed": false
   },
   "id": "926fe53fa9f0752f"
  },
  {
   "cell_type": "code",
   "execution_count": 1,
   "outputs": [
    {
     "ename": "NameError",
     "evalue": "name 'VIDEO_NAME' is not defined",
     "output_type": "error",
     "traceback": [
      "\u001B[1;31m---------------------------------------------------------------------------\u001B[0m",
      "\u001B[1;31mNameError\u001B[0m                                 Traceback (most recent call last)",
      "Cell \u001B[1;32mIn[1], line 1\u001B[0m\n\u001B[1;32m----> 1\u001B[0m ffmpeg_cmd \u001B[38;5;241m=\u001B[39m \u001B[38;5;124mf\u001B[39m\u001B[38;5;124m\"\u001B[39m\u001B[38;5;124mffmpeg -f concat -i \u001B[39m\u001B[38;5;132;01m{\u001B[39;00mVIDEO_NAME\u001B[38;5;132;01m}\u001B[39;00m\u001B[38;5;124m-list.txt -c copy \u001B[39m\u001B[38;5;132;01m{\u001B[39;00mVIDEO_NAME\u001B[38;5;132;01m}\u001B[39;00m\u001B[38;5;124m.mp4\u001B[39m\u001B[38;5;124m\"\u001B[39m\n\u001B[0;32m      2\u001B[0m subprocess\u001B[38;5;241m.\u001B[39mrun(ffmpeg_cmd, shell\u001B[38;5;241m=\u001B[39m\u001B[38;5;28;01mTrue\u001B[39;00m)\n",
      "\u001B[1;31mNameError\u001B[0m: name 'VIDEO_NAME' is not defined"
     ]
    }
   ],
   "source": [
    "# merge ts files use ffmpeg\n",
    "ffmpeg_cmd = f\"ffmpeg -f concat -i {VIDEO_NAME}-list.txt -c copy {VIDEO_NAME}.mp4\"\n",
    "subprocess.run(ffmpeg_cmd, shell=True)"
   ],
   "metadata": {
    "collapsed": false,
    "ExecuteTime": {
     "end_time": "2023-12-24T10:30:05.004350600Z",
     "start_time": "2023-12-24T10:30:04.253354300Z"
    }
   },
   "id": "a6b550a632c868e6"
  }
 ],
 "metadata": {
  "kernelspec": {
   "display_name": "Python 3",
   "language": "python",
   "name": "python3"
  },
  "language_info": {
   "codemirror_mode": {
    "name": "ipython",
    "version": 2
   },
   "file_extension": ".py",
   "mimetype": "text/x-python",
   "name": "python",
   "nbconvert_exporter": "python",
   "pygments_lexer": "ipython2",
   "version": "2.7.6"
  }
 },
 "nbformat": 4,
 "nbformat_minor": 5
}
