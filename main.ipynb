{
 "cells": [
  {
   "cell_type": "code",
   "execution_count": 54,
   "outputs": [
    {
     "name": "stdout",
     "output_type": "stream",
     "text": [
      "Requirement already satisfied: google-api-python-client in c:\\users\\asus\\.virtualenvs\\download-compress-py\\lib\\site-packages (2.111.0)\n",
      "Requirement already satisfied: google-auth-httplib2 in c:\\users\\asus\\.virtualenvs\\download-compress-py\\lib\\site-packages (0.2.0)\n",
      "Requirement already satisfied: google-auth-oauthlib in c:\\users\\asus\\.virtualenvs\\download-compress-py\\lib\\site-packages (1.2.0)\n",
      "Requirement already satisfied: httplib2<1.dev0,>=0.15.0 in c:\\users\\asus\\.virtualenvs\\download-compress-py\\lib\\site-packages (from google-api-python-client) (0.22.0)\n",
      "Requirement already satisfied: google-auth<3.0.0.dev0,>=1.19.0 in c:\\users\\asus\\.virtualenvs\\download-compress-py\\lib\\site-packages (from google-api-python-client) (2.25.2)\n",
      "Requirement already satisfied: google-api-core!=2.0.*,!=2.1.*,!=2.2.*,!=2.3.0,<3.0.0.dev0,>=1.31.5 in c:\\users\\asus\\.virtualenvs\\download-compress-py\\lib\\site-packages (from google-api-python-client) (2.15.0)\n",
      "Requirement already satisfied: uritemplate<5,>=3.0.1 in c:\\users\\asus\\.virtualenvs\\download-compress-py\\lib\\site-packages (from google-api-python-client) (4.1.1)\n",
      "Requirement already satisfied: requests-oauthlib>=0.7.0 in c:\\users\\asus\\.virtualenvs\\download-compress-py\\lib\\site-packages (from google-auth-oauthlib) (1.3.1)\n",
      "Requirement already satisfied: googleapis-common-protos<2.0.dev0,>=1.56.2 in c:\\users\\asus\\.virtualenvs\\download-compress-py\\lib\\site-packages (from google-api-core!=2.0.*,!=2.1.*,!=2.2.*,!=2.3.0,<3.0.0.dev0,>=1.31.5->google-api-python-client) (1.62.0)\n",
      "Requirement already satisfied: protobuf!=3.20.0,!=3.20.1,!=4.21.0,!=4.21.1,!=4.21.2,!=4.21.3,!=4.21.4,!=4.21.5,<5.0.0.dev0,>=3.19.5 in c:\\users\\asus\\.virtualenvs\\download-compress-py\\lib\\site-packages (from google-api-core!=2.0.*,!=2.1.*,!=2.2.*,!=2.3.0,<3.0.0.dev0,>=1.31.5->google-api-python-client) (4.25.1)\n",
      "Requirement already satisfied: requests<3.0.0.dev0,>=2.18.0 in c:\\users\\asus\\.virtualenvs\\download-compress-py\\lib\\site-packages (from google-api-core!=2.0.*,!=2.1.*,!=2.2.*,!=2.3.0,<3.0.0.dev0,>=1.31.5->google-api-python-client) (2.31.0)\n",
      "Requirement already satisfied: cachetools<6.0,>=2.0.0 in c:\\users\\asus\\.virtualenvs\\download-compress-py\\lib\\site-packages (from google-auth<3.0.0.dev0,>=1.19.0->google-api-python-client) (5.3.2)\n",
      "Requirement already satisfied: pyasn1-modules>=0.2.1 in c:\\users\\asus\\.virtualenvs\\download-compress-py\\lib\\site-packages (from google-auth<3.0.0.dev0,>=1.19.0->google-api-python-client) (0.3.0)\n",
      "Requirement already satisfied: rsa<5,>=3.1.4 in c:\\users\\asus\\.virtualenvs\\download-compress-py\\lib\\site-packages (from google-auth<3.0.0.dev0,>=1.19.0->google-api-python-client) (4.9)\n",
      "Requirement already satisfied: pyparsing!=3.0.0,!=3.0.1,!=3.0.2,!=3.0.3,<4,>=2.4.2 in c:\\users\\asus\\.virtualenvs\\download-compress-py\\lib\\site-packages (from httplib2<1.dev0,>=0.15.0->google-api-python-client) (3.1.1)\n",
      "Requirement already satisfied: oauthlib>=3.0.0 in c:\\users\\asus\\.virtualenvs\\download-compress-py\\lib\\site-packages (from requests-oauthlib>=0.7.0->google-auth-oauthlib) (3.2.2)\n",
      "Requirement already satisfied: pyasn1<0.6.0,>=0.4.6 in c:\\users\\asus\\.virtualenvs\\download-compress-py\\lib\\site-packages (from pyasn1-modules>=0.2.1->google-auth<3.0.0.dev0,>=1.19.0->google-api-python-client) (0.5.1)\n",
      "Requirement already satisfied: charset-normalizer<4,>=2 in c:\\users\\asus\\.virtualenvs\\download-compress-py\\lib\\site-packages (from requests<3.0.0.dev0,>=2.18.0->google-api-core!=2.0.*,!=2.1.*,!=2.2.*,!=2.3.0,<3.0.0.dev0,>=1.31.5->google-api-python-client) (3.3.2)\n",
      "Requirement already satisfied: idna<4,>=2.5 in c:\\users\\asus\\.virtualenvs\\download-compress-py\\lib\\site-packages (from requests<3.0.0.dev0,>=2.18.0->google-api-core!=2.0.*,!=2.1.*,!=2.2.*,!=2.3.0,<3.0.0.dev0,>=1.31.5->google-api-python-client) (3.6)\n",
      "Requirement already satisfied: urllib3<3,>=1.21.1 in c:\\users\\asus\\.virtualenvs\\download-compress-py\\lib\\site-packages (from requests<3.0.0.dev0,>=2.18.0->google-api-core!=2.0.*,!=2.1.*,!=2.2.*,!=2.3.0,<3.0.0.dev0,>=1.31.5->google-api-python-client) (2.1.0)\n",
      "Requirement already satisfied: certifi>=2017.4.17 in c:\\users\\asus\\.virtualenvs\\download-compress-py\\lib\\site-packages (from requests<3.0.0.dev0,>=2.18.0->google-api-core!=2.0.*,!=2.1.*,!=2.2.*,!=2.3.0,<3.0.0.dev0,>=1.31.5->google-api-python-client) (2023.11.17)\n",
      "Note: you may need to restart the kernel to use updated packages.\n"
     ]
    }
   ],
   "source": [
    "pip install --upgrade google-api-python-client google-auth-httplib2 google-auth-oauthlib"
   ],
   "metadata": {
    "collapsed": false,
    "ExecuteTime": {
     "end_time": "2023-12-23T02:39:56.602322900Z",
     "start_time": "2023-12-23T02:39:52.376320600Z"
    }
   },
   "id": "2124676e57036e4e"
  },
  {
   "cell_type": "code",
   "execution_count": 55,
   "outputs": [],
   "source": [
    "#@title Imports all libraries\n",
    "import os.path\n",
    "\n",
    "from google.auth.transport.requests import Request\n",
    "from google.oauth2.credentials import Credentials\n",
    "from google_auth_oauthlib.flow import InstalledAppFlow\n",
    "from googleapiclient.discovery import build\n",
    "from googleapiclient.errors import HttpError"
   ],
   "metadata": {
    "collapsed": false,
    "ExecuteTime": {
     "end_time": "2023-12-23T02:39:56.693097200Z",
     "start_time": "2023-12-23T02:39:56.611924600Z"
    }
   },
   "id": "d84f5c67ade8e3d3"
  },
  {
   "cell_type": "code",
   "execution_count": 56,
   "outputs": [],
   "source": [
    "#@title Config Authorize Google Drive API\n",
    "# If modifying these scopes, delete the file token.json.\n",
    "SCOPES = [\"https://www.googleapis.com/auth/drive\"]\n",
    "TOKEN_FILE = \"token.json\"\n",
    "CREDENTIALS_FILE = \"credentials.json\"\n",
    "FOLDER_ID = \"1-3y0hToO4S8KhoWzlrqcGwjOsBWOKvoX\""
   ],
   "metadata": {
    "collapsed": false,
    "ExecuteTime": {
     "end_time": "2023-12-23T02:39:56.693097200Z",
     "start_time": "2023-12-23T02:39:56.627533800Z"
    }
   },
   "id": "ec64970186459906"
  },
  {
   "cell_type": "code",
   "execution_count": 57,
   "outputs": [
    {
     "name": "stdout",
     "output_type": "stream",
     "text": [
      "Please visit this URL to authorize this application: https://accounts.google.com/o/oauth2/auth?response_type=code&client_id=75969084923-cg6dock3ajhumvhg1p7ekrerkjdcls46.apps.googleusercontent.com&redirect_uri=http%3A%2F%2Flocalhost%3A63368%2F&scope=https%3A%2F%2Fwww.googleapis.com%2Fauth%2Fdrive&state=AYCOxrjSb99X7AsDBOYCzoraBoDe0z&access_type=offline\n"
     ]
    }
   ],
   "source": [
    "#@title Authorize Google Drive API\n",
    "creds = None\n",
    "if os.path.exists(TOKEN_FILE):\n",
    "    creds = Credentials.from_authorized_user_file(TOKEN_FILE, SCOPES)\n",
    "if not creds or not creds.valid:\n",
    "    if creds and creds.expired and creds.refresh_token:\n",
    "        creds.refresh(Request())\n",
    "    else:\n",
    "        flow = InstalledAppFlow.from_client_secrets_file(CREDENTIALS_FILE, SCOPES)\n",
    "        creds = flow.run_local_server(port=0)\n",
    "    with open(TOKEN_FILE, \"w\") as token:\n",
    "        token.write(creds.to_json())"
   ],
   "metadata": {
    "collapsed": false,
    "ExecuteTime": {
     "end_time": "2023-12-23T02:40:11.818732900Z",
     "start_time": "2023-12-23T02:39:56.658775700Z"
    }
   },
   "id": "c7013814907cd03e"
  },
  {
   "cell_type": "code",
   "execution_count": 58,
   "outputs": [
    {
     "name": "stdout",
     "output_type": "stream",
     "text": [
      "Files:\n",
      "snis-228_Mosaic.mp4 (1-Gksc1nqmUdfR1ER7HBcu0pgEqNkiB9Z)\n",
      "MUDR-244.mp4 (1-5rLWa7CBwU6aTvIOkiLKjMR1MEkSoOi)\n",
      "Free_Test_Data_15MB_MP4.mp4 (1-3goBUpthgyqVtFVFs_xc5aFmgapkDqL)\n"
     ]
    }
   ],
   "source": [
    "#@title List files\n",
    "service = build(\"drive\", \"v3\", credentials=creds)\n",
    "try:\n",
    "    results = (\n",
    "        service.files()\n",
    "        .list(q=f\"'{FOLDER_ID}' in parents and trashed = false\", pageSize=10, fields=\"nextPageToken, files(id, name)\")\n",
    "        .execute()\n",
    "    )\n",
    "    items = results.get(\"files\", [])\n",
    "    if not items:\n",
    "        print(\"No files found.\")\n",
    "    else:\n",
    "        print(\"Files:\")\n",
    "        for item in items:\n",
    "            print(f\"{item['name']} ({item['id']})\")\n",
    "except HttpError as error:\n",
    "    print(f\"An error occurred: {error}\")"
   ],
   "metadata": {
    "collapsed": false,
    "ExecuteTime": {
     "end_time": "2023-12-23T02:40:12.712879Z",
     "start_time": "2023-12-23T02:40:11.834703200Z"
    }
   },
   "id": "92a4d6c3b154e73d"
  },
  {
   "cell_type": "code",
   "execution_count": 59,
   "outputs": [
    {
     "name": "stdout",
     "output_type": "stream",
     "text": [
      "File ID: 19RByzkcubZK_yZNmMviJKdRA4UNe16Y6\n"
     ]
    }
   ],
   "source": [
    "#@title copy local video to google drive\n",
    "from googleapiclient.http import MediaFileUpload\n",
    "local_video_path = \"raw-video/statue.mp4\"\n",
    "file_metadata = {\"name\": \"statue.mp4\", \"parents\": [FOLDER_ID]}\n",
    "media = MediaFileUpload(local_video_path, mimetype=\"video/mp4\")\n",
    "try:\n",
    "    file = (\n",
    "        service.files()\n",
    "        .create(body=file_metadata, media_body=media, fields=\"id\")\n",
    "        .execute()\n",
    "    )\n",
    "    print(f\"File ID: {file.get('id')}\")\n",
    "except HttpError as error:\n",
    "    print(f\"An error occurred: {error}\")\n",
    "    \n",
    "    \n",
    "\n"
   ],
   "metadata": {
    "collapsed": false,
    "ExecuteTime": {
     "end_time": "2023-12-23T02:40:21.324484Z",
     "start_time": "2023-12-23T02:40:12.720899200Z"
    }
   },
   "id": "3cb002d4d5b7ab3d"
  },
  {
   "cell_type": "code",
   "execution_count": 59,
   "outputs": [],
   "source": [],
   "metadata": {
    "collapsed": false,
    "ExecuteTime": {
     "end_time": "2023-12-23T02:40:21.392153700Z",
     "start_time": "2023-12-23T02:40:21.324484Z"
    }
   },
   "id": "d64d65e5353457aa"
  }
 ],
 "metadata": {
  "kernelspec": {
   "display_name": "Python 3",
   "language": "python",
   "name": "python3"
  },
  "language_info": {
   "codemirror_mode": {
    "name": "ipython",
    "version": 2
   },
   "file_extension": ".py",
   "mimetype": "text/x-python",
   "name": "python",
   "nbconvert_exporter": "python",
   "pygments_lexer": "ipython2",
   "version": "2.7.6"
  }
 },
 "nbformat": 4,
 "nbformat_minor": 5
}
