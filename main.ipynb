{
 "cells": [
  {
   "cell_type": "code",
   "execution_count": 1,
   "outputs": [
    {
     "name": "stdout",
     "output_type": "stream",
     "text": [
      "Requirement already satisfied: google-api-python-client in c:\\users\\asus\\.virtualenvs\\download-compress-py\\lib\\site-packages (2.111.0)\n",
      "Requirement already satisfied: google-auth-httplib2 in c:\\users\\asus\\.virtualenvs\\download-compress-py\\lib\\site-packages (0.2.0)\n",
      "Requirement already satisfied: google-auth-oauthlib in c:\\users\\asus\\.virtualenvs\\download-compress-py\\lib\\site-packages (1.2.0)\n",
      "Requirement already satisfied: httplib2<1.dev0,>=0.15.0 in c:\\users\\asus\\.virtualenvs\\download-compress-py\\lib\\site-packages (from google-api-python-client) (0.22.0)\n",
      "Requirement already satisfied: google-auth<3.0.0.dev0,>=1.19.0 in c:\\users\\asus\\.virtualenvs\\download-compress-py\\lib\\site-packages (from google-api-python-client) (2.25.2)\n",
      "Requirement already satisfied: google-api-core!=2.0.*,!=2.1.*,!=2.2.*,!=2.3.0,<3.0.0.dev0,>=1.31.5 in c:\\users\\asus\\.virtualenvs\\download-compress-py\\lib\\site-packages (from google-api-python-client) (2.15.0)\n",
      "Requirement already satisfied: uritemplate<5,>=3.0.1 in c:\\users\\asus\\.virtualenvs\\download-compress-py\\lib\\site-packages (from google-api-python-client) (4.1.1)\n",
      "Requirement already satisfied: requests-oauthlib>=0.7.0 in c:\\users\\asus\\.virtualenvs\\download-compress-py\\lib\\site-packages (from google-auth-oauthlib) (1.3.1)\n",
      "Requirement already satisfied: googleapis-common-protos<2.0.dev0,>=1.56.2 in c:\\users\\asus\\.virtualenvs\\download-compress-py\\lib\\site-packages (from google-api-core!=2.0.*,!=2.1.*,!=2.2.*,!=2.3.0,<3.0.0.dev0,>=1.31.5->google-api-python-client) (1.62.0)\n",
      "Requirement already satisfied: protobuf!=3.20.0,!=3.20.1,!=4.21.0,!=4.21.1,!=4.21.2,!=4.21.3,!=4.21.4,!=4.21.5,<5.0.0.dev0,>=3.19.5 in c:\\users\\asus\\.virtualenvs\\download-compress-py\\lib\\site-packages (from google-api-core!=2.0.*,!=2.1.*,!=2.2.*,!=2.3.0,<3.0.0.dev0,>=1.31.5->google-api-python-client) (4.25.1)\n",
      "Requirement already satisfied: requests<3.0.0.dev0,>=2.18.0 in c:\\users\\asus\\.virtualenvs\\download-compress-py\\lib\\site-packages (from google-api-core!=2.0.*,!=2.1.*,!=2.2.*,!=2.3.0,<3.0.0.dev0,>=1.31.5->google-api-python-client) (2.31.0)\n",
      "Requirement already satisfied: cachetools<6.0,>=2.0.0 in c:\\users\\asus\\.virtualenvs\\download-compress-py\\lib\\site-packages (from google-auth<3.0.0.dev0,>=1.19.0->google-api-python-client) (5.3.2)\n",
      "Requirement already satisfied: pyasn1-modules>=0.2.1 in c:\\users\\asus\\.virtualenvs\\download-compress-py\\lib\\site-packages (from google-auth<3.0.0.dev0,>=1.19.0->google-api-python-client) (0.3.0)\n",
      "Requirement already satisfied: rsa<5,>=3.1.4 in c:\\users\\asus\\.virtualenvs\\download-compress-py\\lib\\site-packages (from google-auth<3.0.0.dev0,>=1.19.0->google-api-python-client) (4.9)\n",
      "Requirement already satisfied: pyparsing!=3.0.0,!=3.0.1,!=3.0.2,!=3.0.3,<4,>=2.4.2 in c:\\users\\asus\\.virtualenvs\\download-compress-py\\lib\\site-packages (from httplib2<1.dev0,>=0.15.0->google-api-python-client) (3.1.1)\n",
      "Requirement already satisfied: oauthlib>=3.0.0 in c:\\users\\asus\\.virtualenvs\\download-compress-py\\lib\\site-packages (from requests-oauthlib>=0.7.0->google-auth-oauthlib) (3.2.2)\n",
      "Requirement already satisfied: pyasn1<0.6.0,>=0.4.6 in c:\\users\\asus\\.virtualenvs\\download-compress-py\\lib\\site-packages (from pyasn1-modules>=0.2.1->google-auth<3.0.0.dev0,>=1.19.0->google-api-python-client) (0.5.1)\n",
      "Requirement already satisfied: charset-normalizer<4,>=2 in c:\\users\\asus\\.virtualenvs\\download-compress-py\\lib\\site-packages (from requests<3.0.0.dev0,>=2.18.0->google-api-core!=2.0.*,!=2.1.*,!=2.2.*,!=2.3.0,<3.0.0.dev0,>=1.31.5->google-api-python-client) (3.3.2)\n",
      "Requirement already satisfied: idna<4,>=2.5 in c:\\users\\asus\\.virtualenvs\\download-compress-py\\lib\\site-packages (from requests<3.0.0.dev0,>=2.18.0->google-api-core!=2.0.*,!=2.1.*,!=2.2.*,!=2.3.0,<3.0.0.dev0,>=1.31.5->google-api-python-client) (3.6)\n",
      "Requirement already satisfied: urllib3<3,>=1.21.1 in c:\\users\\asus\\.virtualenvs\\download-compress-py\\lib\\site-packages (from requests<3.0.0.dev0,>=2.18.0->google-api-core!=2.0.*,!=2.1.*,!=2.2.*,!=2.3.0,<3.0.0.dev0,>=1.31.5->google-api-python-client) (2.1.0)\n",
      "Requirement already satisfied: certifi>=2017.4.17 in c:\\users\\asus\\.virtualenvs\\download-compress-py\\lib\\site-packages (from requests<3.0.0.dev0,>=2.18.0->google-api-core!=2.0.*,!=2.1.*,!=2.2.*,!=2.3.0,<3.0.0.dev0,>=1.31.5->google-api-python-client) (2023.11.17)\n",
      "Requirement already satisfied: yt_dlp in c:\\users\\asus\\.virtualenvs\\download-compress-py\\lib\\site-packages (2023.11.16)\n",
      "Requirement already satisfied: mutagen in c:\\users\\asus\\.virtualenvs\\download-compress-py\\lib\\site-packages (from yt_dlp) (1.47.0)\n",
      "Requirement already satisfied: pycryptodomex in c:\\users\\asus\\.virtualenvs\\download-compress-py\\lib\\site-packages (from yt_dlp) (3.19.0)\n",
      "Requirement already satisfied: websockets in c:\\users\\asus\\.virtualenvs\\download-compress-py\\lib\\site-packages (from yt_dlp) (12.0)\n",
      "Requirement already satisfied: certifi in c:\\users\\asus\\.virtualenvs\\download-compress-py\\lib\\site-packages (from yt_dlp) (2023.11.17)\n",
      "Requirement already satisfied: requests<3,>=2.31.0 in c:\\users\\asus\\.virtualenvs\\download-compress-py\\lib\\site-packages (from yt_dlp) (2.31.0)\n",
      "Requirement already satisfied: urllib3<3,>=1.26.17 in c:\\users\\asus\\.virtualenvs\\download-compress-py\\lib\\site-packages (from yt_dlp) (2.1.0)\n",
      "Requirement already satisfied: brotli in c:\\users\\asus\\.virtualenvs\\download-compress-py\\lib\\site-packages (from yt_dlp) (1.1.0)\n",
      "Requirement already satisfied: charset-normalizer<4,>=2 in c:\\users\\asus\\.virtualenvs\\download-compress-py\\lib\\site-packages (from requests<3,>=2.31.0->yt_dlp) (3.3.2)\n",
      "Requirement already satisfied: idna<4,>=2.5 in c:\\users\\asus\\.virtualenvs\\download-compress-py\\lib\\site-packages (from requests<3,>=2.31.0->yt_dlp) (3.6)\n",
      "Requirement already satisfied: ffmpeg in c:\\users\\asus\\.virtualenvs\\download-compress-py\\lib\\site-packages (1.4)\n"
     ]
    },
    {
     "name": "stderr",
     "output_type": "stream",
     "text": [
      "A subdirectory or file raw-video already exists.\n",
      "A subdirectory or file compressed-video already exists.\n",
      "A subdirectory or file log already exists.\n"
     ]
    }
   ],
   "source": [
    "!pip install --upgrade google-api-python-client google-auth-httplib2 google-auth-oauthlib\n",
    "!pip install yt_dlp\n",
    "!pip install ffmpeg\n",
    "!mkdir raw-video\n",
    "!mkdir compressed-video\n",
    "!mkdir log"
   ],
   "metadata": {
    "collapsed": false,
    "ExecuteTime": {
     "end_time": "2023-12-23T03:24:55.546798900Z",
     "start_time": "2023-12-23T03:24:46.145891900Z"
    }
   },
   "id": "2124676e57036e4e"
  },
  {
   "cell_type": "code",
   "execution_count": 2,
   "outputs": [],
   "source": [
    "#@title Imports all libraries\n",
    "import os.path\n",
    "\n",
    "from google.auth.transport.requests import Request\n",
    "from google.oauth2.credentials import Credentials\n",
    "from google_auth_oauthlib.flow import InstalledAppFlow\n",
    "from googleapiclient.discovery import build\n",
    "from googleapiclient.errors import HttpError\n",
    "from google.oauth2 import service_account\n",
    "\n",
    "from googleapiclient.http import MediaFileUpload\n",
    "\n",
    "import yt_dlp\n",
    "import ffmpeg\n",
    "import subprocess\n",
    "import sys\n"
   ],
   "metadata": {
    "collapsed": false,
    "ExecuteTime": {
     "end_time": "2023-12-23T03:24:56.650610700Z",
     "start_time": "2023-12-23T03:24:55.518158Z"
    }
   },
   "id": "d84f5c67ade8e3d3"
  },
  {
   "cell_type": "code",
   "execution_count": 3,
   "outputs": [],
   "source": [
    "#@title Config Authorize Google Drive API\n",
    "# If modifying these scopes, delete the file token.json.\n",
    "USE_SERVICE_ACCOUNT = False\n",
    "SCOPES = [\"https://www.googleapis.com/auth/drive\"]\n",
    "TOKEN_FILE = \"token.json\"\n",
    "CREDENTIALS_FILE = \"credentials.json\"\n",
    "FOLDER_ID = \"1-3y0hToO4S8KhoWzlrqcGwjOsBWOKvoX\""
   ],
   "metadata": {
    "collapsed": false,
    "ExecuteTime": {
     "end_time": "2023-12-23T03:24:56.663026100Z",
     "start_time": "2023-12-23T03:24:56.653931700Z"
    }
   },
   "id": "ec64970186459906"
  },
  {
   "cell_type": "code",
   "execution_count": 32,
   "outputs": [],
   "source": [
    "url = \"https://static.videezy.com/system/protected/files/000/012/427/statue.mp4\""
   ],
   "metadata": {
    "collapsed": false,
    "ExecuteTime": {
     "end_time": "2023-12-23T03:51:53.114368400Z",
     "start_time": "2023-12-23T03:51:53.088990700Z"
    }
   },
   "id": "36cdd566f7f3d259"
  },
  {
   "cell_type": "code",
   "execution_count": 33,
   "outputs": [
    {
     "name": "stdout",
     "output_type": "stream",
     "text": [
      "[GoogleDrive] Extracting URL: https://drive.google.com/file/d/1b6C0C-4lo-c-oDz_M-9zESuiKvIrYown/view?usp=sharing\n",
      "[GoogleDrive] 1b6C0C-4lo-c-oDz_M-9zESuiKvIrYown: Downloading video webpage\n",
      "[GoogleDrive] 1b6C0C-4lo-c-oDz_M-9zESuiKvIrYown: Requesting source file\n",
      "[info] 1b6C0C-4lo-c-oDz_M-9zESuiKvIrYown: Downloading 1 format(s): source\n",
      "[download] Destination: raw-video\\Free_Test_Data_15MB_MP4.mp4.mp4\n",
      "[download] 100% of   15.06MiB in 00:00:03 at 4.41MiB/s     \n",
      "Free_Test_Data_15MB_MP4.mp4.mp4\n"
     ]
    }
   ],
   "source": [
    "output_filename = ''\n",
    "\n",
    "# Specify the output path\n",
    "output_path = f'raw-video/'\n",
    "\n",
    "# Create YoutubeDL object with the desired options\n",
    "ydl_opts = {\n",
    "  'outtmpl': output_path + '%(title)s.%(ext)s',\n",
    "}\n",
    "\n",
    "def download_from_url(url):\n",
    "    info_dict = ydl.extract_info(url, download=True)\n",
    "    \n",
    "    # Extract the actual file name from the template\n",
    "    downloaded_file_name = info_dict['title'] + '.' + info_dict['ext']\n",
    "    \n",
    "    return downloaded_file_name\n",
    "\n",
    "with yt_dlp.YoutubeDL(ydl_opts) as ydl:\n",
    "    output_filename = download_from_url(url)\n",
    "    \n",
    "    print(output_filename)"
   ],
   "metadata": {
    "collapsed": false,
    "ExecuteTime": {
     "end_time": "2023-12-23T03:52:06.046741400Z",
     "start_time": "2023-12-23T03:51:54.788879400Z"
    }
   },
   "id": "54ec02b9a95026c2"
  },
  {
   "cell_type": "code",
   "execution_count": 34,
   "outputs": [
    {
     "data": {
      "text/plain": "CompletedProcess(args=['ffmpeg', '-i', 'raw-video/Free_Test_Data_15MB_MP4.mp4.mp4', '-vf', 'scale=640:480', '-b:v', '1000k', '-vcodec', 'libx265', '-crf', '31', '-preset', 'veryfast', '-progress', 'log/Free_Test_Data_15MB_MP4.mp4.mp4.txt', 'compressed-video/Free_Test_Data_15MB_MP4.mp4.mp4'], returncode=0, stdout='', stderr='ffmpeg version 6.1-essentials_build-www.gyan.dev Copyright (c) 2000-2023 the FFmpeg developers\\n  built with gcc 12.2.0 (Rev10, Built by MSYS2 project)\\n  configuration: --enable-gpl --enable-version3 --enable-static --pkg-config=pkgconf --disable-w32threads --disable-autodetect --enable-fontconfig --enable-iconv --enable-gnutls --enable-libxml2 --enable-gmp --enable-bzlib --enable-lzma --enable-zlib --enable-libsrt --enable-libssh --enable-libzmq --enable-avisynth --enable-sdl2 --enable-libwebp --enable-libx264 --enable-libx265 --enable-libxvid --enable-libaom --enable-libopenjpeg --enable-libvpx --enable-mediafoundation --enable-libass --enable-libfreetype --enable-libfribidi --enable-libharfbuzz --enable-libvidstab --enable-libvmaf --enable-libzimg --enable-amf --enable-cuda-llvm --enable-cuvid --enable-ffnvcodec --enable-nvdec --enable-nvenc --enable-dxva2 --enable-d3d11va --enable-libvpl --enable-libgme --enable-libopenmpt --enable-libopencore-amrwb --enable-libmp3lame --enable-libtheora --enable-libvo-amrwbenc --enable-libgsm --enable-libopencore-amrnb --enable-libopus --enable-libspeex --enable-libvorbis --enable-librubberband\\n  libavutil      58. 29.100 / 58. 29.100\\n  libavcodec     60. 31.102 / 60. 31.102\\n  libavformat    60. 16.100 / 60. 16.100\\n  libavdevice    60.  3.100 / 60.  3.100\\n  libavfilter     9. 12.100 /  9. 12.100\\n  libswscale      7.  5.100 /  7.  5.100\\n  libswresample   4. 12.100 /  4. 12.100\\n  libpostproc    57.  3.100 / 57.  3.100\\n[mov,mp4,m4a,3gp,3g2,mj2 @ 0000025c579a9740] Detected creation time before 1970, parsing as unix timestamp.\\n    Last message repeated 1 times\\nInput #0, mov,mp4,m4a,3gp,3g2,mj2, from \\'raw-video/Free_Test_Data_15MB_MP4.mp4.mp4\\':\\n  Metadata:\\n    major_brand     : mp42\\n    minor_version   : 512\\n    compatible_brands: mp42\\n    creation_time   : 2022-02-11T18:35:55.000000Z\\n    hd_video        : 0\\n    iTunMOVI        : <?xml version=\"1.0\" encoding=\"UTF-8\"?><!DOCTYPE plist PUBLIC \"-//Apple Computer//DTD PLIST 1.0//EN\"  \"http://www.apple.com/DTDs/PropertyList-1.0.dtd\"><plist version=\"1.0\"><dict></dict></plist>\\n  Duration: 00:00:13.52, start: 0.000000, bitrate: 9344 kb/s\\n  Stream #0:0[0x1](und): Video: h264 (Main) (avc1 / 0x31637661), yuv420p(progressive), 1280x720 [SAR 1:1 DAR 16:9], 9045 kb/s, 25 fps, 25 tbr, 90k tbn (default)\\n    Metadata:\\n      creation_time   : 2022-02-11T18:35:55.000000Z\\n      handler_name    : VideoHandler\\n      vendor_id       : [0][0][0][0]\\n      encoder         : h264\\n  Stream #0:1[0x2](eng): Audio: aac (LC) (mp4a / 0x6134706D), 48000 Hz, stereo, fltp, 319 kb/s (default)\\n    Metadata:\\n      creation_time   : 2022-02-11T18:35:55.000000Z\\n      handler_name    : SoundHandler\\n      vendor_id       : [0][0][0][0]\\nStream mapping:\\n  Stream #0:0 -> #0:0 (h264 (native) -> hevc (libx265))\\n  Stream #0:1 -> #0:1 (aac (native) -> aac (native))\\nPress [q] to stop, [?] for help\\nx265 [info]: HEVC encoder version 3.5+111-c0af18dd5\\nx265 [info]: build info [Windows][GCC 13.2.0][64 bit] 8bit+10bit+12bit\\nx265 [info]: using cpu capabilities: MMX2 SSE2Fast LZCNT SSSE3 SSE4.2 AVX FMA3 BMI2 AVX2\\nx265 [info]: Main profile, Level-3 (Main tier)\\nx265 [info]: Thread pool created using 8 threads\\nx265 [info]: Slices                              : 1\\nx265 [info]: frame threads / pool features       : 3 / wpp(8 rows)\\nx265 [warning]: Source height < 720p; disabling lookahead-slices\\nx265 [info]: Coding QT: max CU size, min CU size : 64 / 8\\nx265 [info]: Residual QT: max TU size, max depth : 32 / 1 inter / 1 intra\\nx265 [info]: ME / range / subpel / merge         : hex / 57 / 1 / 2\\nx265 [info]: Keyframe min / max / scenecut / bias  : 25 / 250 / 40 / 5.00 \\nx265 [info]: Lookahead / bframes / badapt        : 15 / 4 / 0\\nx265 [info]: b-pyramid / weightp / weightb       : 1 / 1 / 0\\nx265 [info]: References / ref-limit  cu / depth  : 2 / on / on\\nx265 [info]: AQ: mode / str / qg-size / cu-tree  : 2 / 1.0 / 32 / 1\\nx265 [info]: Rate Control / qCompress            : CRF-31.0 / 0.60\\nx265 [info]: tools: rd=2 psy-rd=2.00 early-skip rskip mode=1 signhide tmvp\\nx265 [info]: tools: fast-intra strong-intra-smoothing deblock sao\\nOutput #0, mp4, to \\'compressed-video/Free_Test_Data_15MB_MP4.mp4.mp4\\':\\n  Metadata:\\n    major_brand     : mp42\\n    minor_version   : 512\\n    compatible_brands: mp42\\n    iTunMOVI        : <?xml version=\"1.0\" encoding=\"UTF-8\"?><!DOCTYPE plist PUBLIC \"-//Apple Computer//DTD PLIST 1.0//EN\"  \"http://www.apple.com/DTDs/PropertyList-1.0.dtd\"><plist version=\"1.0\"><dict></dict></plist>\\n    hd_video        : 0\\n    encoder         : Lavf60.16.100\\n  Stream #0:0(und): Video: hevc (hev1 / 0x31766568), yuv420p(tv, progressive), 640x480 [SAR 4:3 DAR 16:9], q=2-31, 1000 kb/s, 25 fps, 12800 tbn (default)\\n    Metadata:\\n      creation_time   : 2022-02-11T18:35:55.000000Z\\n      handler_name    : VideoHandler\\n      vendor_id       : [0][0][0][0]\\n      encoder         : Lavc60.31.102 libx265\\n    Side data:\\n      cpb: bitrate max/min/avg: 0/0/0 buffer size: 0 vbv_delay: N/A\\n  Stream #0:1(eng): Audio: aac (LC) (mp4a / 0x6134706D), 48000 Hz, stereo, fltp, 128 kb/s (default)\\n    Metadata:\\n      creation_time   : 2022-02-11T18:35:55.000000Z\\n      handler_name    : SoundHandler\\n      vendor_id       : [0][0][0][0]\\n      encoder         : Lavc60.31.102 aac\\nframe=    0 fps=0.0 q=0.0 size=       0kB time=00:00:00.38 bitrate=   0.9kbits/s dup=1 drop=0 speed=12.9x    \\nframe=    9 fps=0.0 q=38.6 size=       0kB time=00:00:01.64 bitrate=   0.2kbits/s dup=1 drop=0 speed=3.05x    \\nframe=   40 fps= 38 q=38.9 size=       0kB time=00:00:02.88 bitrate=   0.1kbits/s dup=1 drop=0 speed=2.77x    \\nframe=   79 fps= 51 q=38.8 size=       0kB time=00:00:04.50 bitrate=   0.1kbits/s dup=1 drop=0 speed=2.92x    \\nframe=  159 fps= 78 q=38.5 size=       0kB time=00:00:07.63 bitrate=   0.0kbits/s dup=1 drop=0 speed=3.74x    \\nframe=  247 fps= 95 q=28.5 size=       0kB time=00:00:11.17 bitrate=   0.0kbits/s dup=1 drop=0 speed=4.29x    \\n[out#0/mp4 @ 0000025c57ec2c00] video:172kB audio:4kB subtitle:0kB other streams:0kB global headers:2kB muxing overhead: 7.776521%\\nframe=  339 fps=111 q=38.9 Lsize=     190kB time=00:00:13.44 bitrate= 115.7kbits/s dup=2 drop=0 speed=4.39x    \\nx265 [info]: frame I:      2, Avg QP:28.33  kb/s: 2903.00 \\nx265 [info]: frame P:     67, Avg QP:32.93  kb/s: 372.36  \\nx265 [info]: frame B:    270, Avg QP:38.55  kb/s: 15.87   \\nx265 [info]: Weighted P-Frames: Y:0.0% UV:0.0%\\n\\nencoded 339 frames in 3.03s (111.88 fps), 103.36 kb/s, Avg QP:37.37\\n[aac @ 0000025c57a2e7c0] Qavg: 65536.000\\n')"
     },
     "execution_count": 34,
     "metadata": {},
     "output_type": "execute_result"
    }
   ],
   "source": [
    "#@title Compress video\n",
    "input_file = f'raw-video/{output_filename}'\n",
    "output_file = f'compressed-video/{output_filename}'\n",
    "progress_file = f'log/{output_filename}.txt'\n",
    "\n",
    "# Set the desired video bitrate and quality (adjust as needed)\n",
    "video_bitrate = '1000k'  # 1000k is just an example, you can adjust based on your requirements\n",
    "video_quality = '31' # Range: 2 (best) - 31 (worst)\n",
    "resolution = {\n",
    "    '1080p':'1920:1080',\n",
    "    '720p':'720:480',\n",
    "    '480p':'640:480',\n",
    "    '360p':'480:360',\n",
    "    '240p':'426:240',\n",
    "    '144p':'256:144'\n",
    "} \n",
    "\n",
    "# FFmpeg command to compress the video using H.265 codec\n",
    "ffmpeg_cmd = f'ffmpeg -i {input_file} -vf scale={resolution[\"480p\"]} -b:v {video_bitrate} -vcodec libx265 -crf {video_quality} -preset veryfast -progress {progress_file} {output_file}'\n",
    "\n",
    "# Run the FFmpeg command\n",
    "subprocess.run(ffmpeg_cmd.split(), capture_output=True, text=True)\n"
   ],
   "metadata": {
    "collapsed": false,
    "ExecuteTime": {
     "end_time": "2023-12-23T03:52:16.297323300Z",
     "start_time": "2023-12-23T03:52:12.745712500Z"
    }
   },
   "id": "9a0aa206d5ce1ee5"
  },
  {
   "cell_type": "code",
   "execution_count": 7,
   "outputs": [],
   "source": [
    "#@title Authorize Google Drive API\n",
    "creds = None\n",
    "if USE_SERVICE_ACCOUNT:\n",
    "    creds = service_account.Credentials.from_service_account_file(\n",
    "        \"service_account.json\", scopes=SCOPES\n",
    "    )\n",
    "else:\n",
    "    if os.path.exists(TOKEN_FILE):\n",
    "        creds = Credentials.from_authorized_user_file(TOKEN_FILE, SCOPES)\n",
    "    if not creds or not creds.valid:\n",
    "        if creds and creds.expired and creds.refresh_token:\n",
    "            creds.refresh(Request())\n",
    "        else:\n",
    "            flow = InstalledAppFlow.from_client_secrets_file(CREDENTIALS_FILE, SCOPES)\n",
    "            creds = flow.run_local_server(port=0)\n",
    "        with open(TOKEN_FILE, \"w\") as token:\n",
    "            token.write(creds.to_json())\n",
    "service = build(\"drive\", \"v3\", credentials=creds)"
   ],
   "metadata": {
    "collapsed": false,
    "ExecuteTime": {
     "end_time": "2023-12-23T03:25:00.895942600Z",
     "start_time": "2023-12-23T03:25:00.847573Z"
    }
   },
   "id": "c7013814907cd03e"
  },
  {
   "cell_type": "code",
   "execution_count": 38,
   "outputs": [
    {
     "name": "stdout",
     "output_type": "stream",
     "text": [
      "Files:\n",
      "snis-228_Mosaic.mp4 (1-Gksc1nqmUdfR1ER7HBcu0pgEqNkiB9Z)\n",
      "Free_Test_Data_15MB_MP4.mp4 (1-3goBUpthgyqVtFVFs_xc5aFmgapkDqL)\n"
     ]
    }
   ],
   "source": [
    "#@title List files\n",
    "try:\n",
    "    results = (\n",
    "        service.files()\n",
    "        .list(q=f\"'{FOLDER_ID}' in parents and trashed = false\", pageSize=10, fields=\"nextPageToken, files(id, name)\")\n",
    "        .execute()\n",
    "    )\n",
    "    items = results.get(\"files\", [])\n",
    "    if not items:\n",
    "        print(\"No files found.\")\n",
    "    else:\n",
    "        print(\"Files:\")\n",
    "        for item in items:\n",
    "            print(f\"{item['name']} ({item['id']})\")\n",
    "except HttpError as error:\n",
    "    print(f\"An error occurred: {error}\")"
   ],
   "metadata": {
    "collapsed": false,
    "ExecuteTime": {
     "end_time": "2023-12-23T06:20:12.315352500Z",
     "start_time": "2023-12-23T06:20:11.535699300Z"
    }
   },
   "id": "92a4d6c3b154e73d"
  },
  {
   "cell_type": "code",
   "execution_count": 9,
   "outputs": [
    {
     "ename": "FileNotFoundError",
     "evalue": "[Errno 2] No such file or directory: 'raw-video/$statue.mp4'",
     "output_type": "error",
     "traceback": [
      "\u001B[1;31m---------------------------------------------------------------------------\u001B[0m",
      "\u001B[1;31mFileNotFoundError\u001B[0m                         Traceback (most recent call last)",
      "Cell \u001B[1;32mIn[9], line 5\u001B[0m\n\u001B[0;32m      3\u001B[0m local_video_path \u001B[38;5;241m=\u001B[39m \u001B[38;5;124mf\u001B[39m\u001B[38;5;124m'\u001B[39m\u001B[38;5;124mraw-video/$\u001B[39m\u001B[38;5;132;01m{\u001B[39;00moutput_filename\u001B[38;5;132;01m}\u001B[39;00m\u001B[38;5;124m'\u001B[39m\n\u001B[0;32m      4\u001B[0m file_metadata \u001B[38;5;241m=\u001B[39m {\u001B[38;5;124m\"\u001B[39m\u001B[38;5;124mname\u001B[39m\u001B[38;5;124m\"\u001B[39m: \u001B[38;5;124m\"\u001B[39m\u001B[38;5;124mstatue.mp4\u001B[39m\u001B[38;5;124m\"\u001B[39m, \u001B[38;5;124m\"\u001B[39m\u001B[38;5;124mparents\u001B[39m\u001B[38;5;124m\"\u001B[39m: [FOLDER_ID]}\n\u001B[1;32m----> 5\u001B[0m media \u001B[38;5;241m=\u001B[39m \u001B[43mMediaFileUpload\u001B[49m\u001B[43m(\u001B[49m\u001B[43mlocal_video_path\u001B[49m\u001B[43m,\u001B[49m\u001B[43m \u001B[49m\u001B[43mmimetype\u001B[49m\u001B[38;5;241;43m=\u001B[39;49m\u001B[38;5;124;43m\"\u001B[39;49m\u001B[38;5;124;43mvideo/mp4\u001B[39;49m\u001B[38;5;124;43m\"\u001B[39;49m\u001B[43m)\u001B[49m\n\u001B[0;32m      6\u001B[0m \u001B[38;5;28;01mtry\u001B[39;00m:\n\u001B[0;32m      7\u001B[0m     file \u001B[38;5;241m=\u001B[39m (\n\u001B[0;32m      8\u001B[0m         service\u001B[38;5;241m.\u001B[39mfiles()\n\u001B[0;32m      9\u001B[0m         \u001B[38;5;241m.\u001B[39mcreate(body\u001B[38;5;241m=\u001B[39mfile_metadata, media_body\u001B[38;5;241m=\u001B[39mmedia, fields\u001B[38;5;241m=\u001B[39m\u001B[38;5;124m\"\u001B[39m\u001B[38;5;124mid\u001B[39m\u001B[38;5;124m\"\u001B[39m)\n\u001B[0;32m     10\u001B[0m         \u001B[38;5;241m.\u001B[39mexecute()\n\u001B[0;32m     11\u001B[0m     )\n",
      "File \u001B[1;32m~\\.virtualenvs\\download-compress-py\\lib\\site-packages\\googleapiclient\\_helpers.py:130\u001B[0m, in \u001B[0;36mpositional.<locals>.positional_decorator.<locals>.positional_wrapper\u001B[1;34m(*args, **kwargs)\u001B[0m\n\u001B[0;32m    128\u001B[0m     \u001B[38;5;28;01melif\u001B[39;00m positional_parameters_enforcement \u001B[38;5;241m==\u001B[39m POSITIONAL_WARNING:\n\u001B[0;32m    129\u001B[0m         logger\u001B[38;5;241m.\u001B[39mwarning(message)\n\u001B[1;32m--> 130\u001B[0m \u001B[38;5;28;01mreturn\u001B[39;00m wrapped(\u001B[38;5;241m*\u001B[39margs, \u001B[38;5;241m*\u001B[39m\u001B[38;5;241m*\u001B[39mkwargs)\n",
      "File \u001B[1;32m~\\.virtualenvs\\download-compress-py\\lib\\site-packages\\googleapiclient\\http.py:594\u001B[0m, in \u001B[0;36mMediaFileUpload.__init__\u001B[1;34m(self, filename, mimetype, chunksize, resumable)\u001B[0m\n\u001B[0;32m    592\u001B[0m \u001B[38;5;28mself\u001B[39m\u001B[38;5;241m.\u001B[39m_fd \u001B[38;5;241m=\u001B[39m \u001B[38;5;28;01mNone\u001B[39;00m\n\u001B[0;32m    593\u001B[0m \u001B[38;5;28mself\u001B[39m\u001B[38;5;241m.\u001B[39m_filename \u001B[38;5;241m=\u001B[39m filename\n\u001B[1;32m--> 594\u001B[0m \u001B[38;5;28mself\u001B[39m\u001B[38;5;241m.\u001B[39m_fd \u001B[38;5;241m=\u001B[39m \u001B[38;5;28;43mopen\u001B[39;49m\u001B[43m(\u001B[49m\u001B[38;5;28;43mself\u001B[39;49m\u001B[38;5;241;43m.\u001B[39;49m\u001B[43m_filename\u001B[49m\u001B[43m,\u001B[49m\u001B[43m \u001B[49m\u001B[38;5;124;43m\"\u001B[39;49m\u001B[38;5;124;43mrb\u001B[39;49m\u001B[38;5;124;43m\"\u001B[39;49m\u001B[43m)\u001B[49m\n\u001B[0;32m    595\u001B[0m \u001B[38;5;28;01mif\u001B[39;00m mimetype \u001B[38;5;129;01mis\u001B[39;00m \u001B[38;5;28;01mNone\u001B[39;00m:\n\u001B[0;32m    596\u001B[0m     \u001B[38;5;66;03m# No mimetype provided, make a guess.\u001B[39;00m\n\u001B[0;32m    597\u001B[0m     mimetype, _ \u001B[38;5;241m=\u001B[39m mimetypes\u001B[38;5;241m.\u001B[39mguess_type(filename)\n",
      "\u001B[1;31mFileNotFoundError\u001B[0m: [Errno 2] No such file or directory: 'raw-video/$statue.mp4'"
     ]
    }
   ],
   "source": [
    "#@title copy local video to google drive\n",
    "\n",
    "local_video_path = f'compressed-video/{output_filename}'\n",
    "file_metadata = {\"name\": output_filename, \"parents\": [FOLDER_ID]}\n",
    "media = MediaFileUpload(local_video_path, mimetype=\"video/mp4\")\n",
    "try:\n",
    "    pass\n",
    "    file = (\n",
    "        service.files()\n",
    "        .create(body=file_metadata, media_body=media, fields=\"id\")\n",
    "        .execute()\n",
    "    )\n",
    "\n",
    "    print(f\"File ID: {file.get('id')}\")\n",
    "except HttpError as error:\n",
    "    print(f\"An error occurred: {error}\")"
   ],
   "metadata": {
    "collapsed": false,
    "ExecuteTime": {
     "end_time": "2023-12-23T03:25:02.963379400Z",
     "start_time": "2023-12-23T03:25:01.730473600Z"
    }
   },
   "id": "3cb002d4d5b7ab3d"
  }
 ],
 "metadata": {
  "kernelspec": {
   "display_name": "Python 3",
   "language": "python",
   "name": "python3"
  },
  "language_info": {
   "codemirror_mode": {
    "name": "ipython",
    "version": 2
   },
   "file_extension": ".py",
   "mimetype": "text/x-python",
   "name": "python",
   "nbconvert_exporter": "python",
   "pygments_lexer": "ipython2",
   "version": "2.7.6"
  }
 },
 "nbformat": 4,
 "nbformat_minor": 5
}
